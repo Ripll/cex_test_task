{
 "cells": [
  {
   "cell_type": "code",
   "execution_count": 1,
   "metadata": {},
   "outputs": [],
   "source": [
    "def f(x: float) -> float:\n",
    "    '''Результат - число, в котором будет максимум 5 старших значущих цифр исходного.'''\n",
    "    return float(f\"{x:.5g}\")"
   ]
  },
  {
   "cell_type": "code",
   "execution_count": 2,
   "metadata": {},
   "outputs": [
    {
     "name": "stdout",
     "output_type": "stream",
     "text": [
      "1.3212\n",
      "0.0\n",
      "1.0\n",
      "10221.0\n",
      "-12.345\n"
     ]
    }
   ],
   "source": [
    "for test in [1.32123, 0., 1, 10221.45, -12.345123]:\n",
    "    print(f(test))"
   ]
  },
  {
   "cell_type": "code",
   "execution_count": 3,
   "metadata": {},
   "outputs": [],
   "source": [
    "import csv\n",
    "from decimal import Decimal\n",
    "from datetime import datetime, timedelta\n",
    "from pprint import pprint\n",
    "\n",
    "\n",
    "def td_format(td_object):\n",
    "    seconds = int(td_object.total_seconds())\n",
    "    periods = [\n",
    "        ('year', 60 * 60 * 24 * 365),\n",
    "        ('month', 60 * 60 * 24 * 30),\n",
    "        ('day', 60 * 60 * 24),\n",
    "        ('hour', 60 * 60),\n",
    "        ('minute', 60),\n",
    "        ('second', 1)\n",
    "    ]\n",
    "\n",
    "    strings = []\n",
    "    for period_name, period_seconds in periods:\n",
    "        if seconds > period_seconds:\n",
    "            period_value, seconds = divmod(seconds, period_seconds)\n",
    "            has_s = 's' if period_value > 1 else ''\n",
    "            strings.append(\"%s %s%s\" % (period_value, period_name, has_s))\n",
    "\n",
    "    return \", \".join(strings)\n",
    "\n",
    "\n",
    "def get_stat(start_time=1614556800, end_time=1614643200, accuracy=60):\n",
    "    \n",
    "    stat_intervals = {\n",
    "        \"<1\": \"{}<1\",\n",
    "        \"1-2\": \"1<{}<=2\",\n",
    "        \"2-5\": \"2<{}<=5\",\n",
    "        \"5+\": \"{}>5\",\n",
    "        None: \"{} is None\"\n",
    "    }\n",
    "    \n",
    "    with open('test_assignment_data.csv', newline='') as file:\n",
    "        reader = csv.reader(file, delimiter=';')\n",
    "        next(reader)\n",
    "        data = [{\n",
    "            \"pair\": row[1],  # pair\n",
    "            \"type\": row[2],  # order type\n",
    "            \"price\": Decimal(row[3]),  # price\n",
    "            \"open_ts\": float(row[6]), # open timestamp\n",
    "            \"close_ts\": float(row[7]) # close timestamp\n",
    "        } for row in reader]\n",
    "\n",
    "\n",
    "    data = sorted(filter(lambda k: k['close_ts'] > start_time and k['open_ts'] < end_time, data),\n",
    "                  key=lambda k: k['pair'].lower())\n",
    "\n",
    "    order_book = {}\n",
    "    for order in data:\n",
    "        if not order_book.get(order['pair']):\n",
    "            order_book[order['pair']] = {order_type: [{'ts': i, 'price': None} for i in range(start_time,\n",
    "                                                                                         end_time,\n",
    "                                                                                         accuracy)]\n",
    "                                         for order_type in ['buy', 'sell']}\n",
    "\n",
    "        for x in (i for i in order_book[order['pair']][order['type']]\n",
    "                  if order['open_ts'] <= i['ts'] <= order['close_ts'] and\n",
    "                     (i['price'] is None or\n",
    "                      i['price'] < order['price'] and order['type'] == 'buy' or\n",
    "                      i['price'] > order['price'] and order['type'] == 'sell')):\n",
    "            x['price'] = order['price']\n",
    "\n",
    "    result = {key: {spread: {'duration': timedelta(0),\n",
    "                             'pct': 0}\n",
    "                    for spread in stat_intervals.keys()}\n",
    "              for key in order_book.keys()}\n",
    "    for pair, data in order_book.items():\n",
    "        for i in range(len(data['buy'])):\n",
    "            sell = data['sell'][i]['price']\n",
    "            buy = data['buy'][i]['price']\n",
    "            pct = ((sell - buy) / sell) * 100 if buy and sell else None\n",
    "            \n",
    "            for key, equation in stat_intervals.items():\n",
    "                try:\n",
    "                    res = eval(equation.format(pct))\n",
    "                except:\n",
    "                    continue\n",
    "                if res:\n",
    "                    result[pair][key]['duration'] += timedelta(seconds=accuracy)\n",
    "                    break\n",
    "\n",
    "    full_interval = end_time - start_time\n",
    "    \n",
    "    for pair, data in result.items():\n",
    "        for interval in stat_intervals.keys():\n",
    "            data[interval]['pct'] = round((data[interval]['duration'].total_seconds()/full_interval)*100, 2)\n",
    "    return result\n"
   ]
  },
  {
   "cell_type": "code",
   "execution_count": 4,
   "metadata": {},
   "outputs": [],
   "source": [
    "stat = get_stat(1614556800, 1614643200)"
   ]
  },
  {
   "cell_type": "code",
   "execution_count": 5,
   "metadata": {},
   "outputs": [
    {
     "name": "stdout",
     "output_type": "stream",
     "text": [
      "Pair       Spread (%) Duration             Duration (%)\n",
      "DOT/USDT   <1                              0.0       \n",
      "DOT/USDT   1-2                             0.0       \n",
      "DOT/USDT   2-5        23 hours, 58 minutes 99.86     \n",
      "DOT/USDT   5+                              0.0       \n",
      "DOT/USDT   None       2 minutes            0.14      \n",
      "ETH/USD    <1                              0.0       \n",
      "ETH/USD    1-2                             0.0       \n",
      "ETH/USD    2-5        23 hours, 50 minutes 99.31     \n",
      "ETH/USD    5+         4 minutes            0.28      \n",
      "ETH/USD    None       6 minutes            0.42      \n",
      "TON/USDT   <1                              0.0       \n",
      "TON/USDT   1-2                             0.0       \n",
      "TON/USDT   2-5                             0.0       \n",
      "TON/USDT   5+         23 hours, 56 minutes 99.72     \n",
      "TON/USDT   None       4 minutes            0.28      \n",
      "XTZ/USD    <1                              0.0       \n",
      "XTZ/USD    1-2                             0.0       \n",
      "XTZ/USD    2-5        22 minutes           1.53      \n",
      "XTZ/USD    5+         23 hours, 36 minutes 98.33     \n",
      "XTZ/USD    None       2 minutes            0.14      \n"
     ]
    }
   ],
   "source": [
    "print(\"{:<10} {:<10} {:<20} {:<10}\".format('Pair', 'Spread (%)', 'Duration', 'Duration (%)'))\n",
    "for pair, data in stat.items():\n",
    "    for spread, spread_data in data.items():\n",
    "        print(\"{:<10} {:<10} {:<20} {:<10}\".format(pair, str(spread), td_format(spread_data['duration']), spread_data['pct']))"
   ]
  },
  {
   "cell_type": "code",
   "execution_count": null,
   "metadata": {},
   "outputs": [],
   "source": []
  }
 ],
 "metadata": {
  "kernelspec": {
   "display_name": "Python 3",
   "language": "python",
   "name": "python3"
  },
  "language_info": {
   "codemirror_mode": {
    "name": "ipython",
    "version": 3
   },
   "file_extension": ".py",
   "mimetype": "text/x-python",
   "name": "python",
   "nbconvert_exporter": "python",
   "pygments_lexer": "ipython3",
   "version": "3.8.5"
  }
 },
 "nbformat": 4,
 "nbformat_minor": 4
}
